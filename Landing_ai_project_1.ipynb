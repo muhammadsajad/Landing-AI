{
  "nbformat": 4,
  "nbformat_minor": 0,
  "metadata": {
    "colab": {
      "provenance": [],
      "authorship_tag": "ABX9TyNXssHsoqfu6GUx1RVSLUlt",
      "include_colab_link": true
    },
    "kernelspec": {
      "name": "python3",
      "display_name": "Python 3"
    },
    "language_info": {
      "name": "python"
    }
  },
  "cells": [
    {
      "cell_type": "markdown",
      "metadata": {
        "id": "view-in-github",
        "colab_type": "text"
      },
      "source": [
        "<a href=\"https://colab.research.google.com/github/muhammadsajad/Landing-AI/blob/main/Landing_ai_project_1.ipynb\" target=\"_parent\"><img src=\"https://colab.research.google.com/assets/colab-badge.svg\" alt=\"Open In Colab\"/></a>"
      ]
    },
    {
      "cell_type": "code",
      "execution_count": null,
      "metadata": {
        "colab": {
          "base_uri": "https://localhost:8080/"
        },
        "id": "dpqq_Z2_znJQ",
        "outputId": "7f61632e-2292-4593-970c-776a2b7a07f9"
      },
      "outputs": [
        {
          "output_type": "stream",
          "name": "stdout",
          "text": [
            "Collecting landingai\n",
            "  Downloading landingai-0.3.22-py3-none-any.whl (1.0 MB)\n",
            "\u001b[2K     \u001b[90m━━━━━━━━━━━━━━━━━━━━━━━━━━━━━━━━━━━━━━━━\u001b[0m \u001b[32m1.0/1.0 MB\u001b[0m \u001b[31m15.4 MB/s\u001b[0m eta \u001b[36m0:00:00\u001b[0m\n",
            "\u001b[?25hCollecting aiofiles<1.0.0,>=0.7.0 (from landingai)\n",
            "  Downloading aiofiles-0.8.0-py3-none-any.whl (13 kB)\n",
            "Requirement already satisfied: aiohttp[speedups]<4.0.0,>=3.7.3 in /usr/local/lib/python3.10/dist-packages (from landingai) (3.9.1)\n",
            "Collecting bbox-visualizer<0.2.0,>=0.1.0 (from landingai)\n",
            "  Downloading bbox_visualizer-0.1.0-py2.py3-none-any.whl (6.2 kB)\n",
            "Requirement already satisfied: imageio[ffmpeg]<3.0.0,>=2.0.0 in /usr/local/lib/python3.10/dist-packages (from landingai) (2.31.6)\n",
            "Requirement already satisfied: numpy<2.0.0,>=1.21.0 in /usr/local/lib/python3.10/dist-packages (from landingai) (1.23.5)\n",
            "Requirement already satisfied: opencv-python<5.0,>=4.5 in /usr/local/lib/python3.10/dist-packages (from landingai) (4.8.0.76)\n",
            "Collecting pandas==2.0 (from landingai)\n",
            "  Downloading pandas-2.0.0-cp310-cp310-manylinux_2_17_x86_64.manylinux2014_x86_64.whl (12.3 MB)\n",
            "\u001b[2K     \u001b[90m━━━━━━━━━━━━━━━━━━━━━━━━━━━━━━━━━━━━━━━━\u001b[0m \u001b[32m12.3/12.3 MB\u001b[0m \u001b[31m90.5 MB/s\u001b[0m eta \u001b[36m0:00:00\u001b[0m\n",
            "\u001b[?25hRequirement already satisfied: pillow<10.0.0,>=9.0.0 in /usr/local/lib/python3.10/dist-packages (from landingai) (9.4.0)\n",
            "Requirement already satisfied: pydantic[dotenv]<2.0.0,>=1.0.0 in /usr/local/lib/python3.10/dist-packages (from landingai) (1.10.13)\n",
            "Requirement already satisfied: requests<3.0.0,>=2.0.0 in /usr/local/lib/python3.10/dist-packages (from landingai) (2.31.0)\n",
            "Collecting segmentation-mask-overlay<0.4.0,>=0.3.4 (from landingai)\n",
            "  Downloading segmentation_mask_overlay-0.3.4-py3-none-any.whl (276 kB)\n",
            "\u001b[2K     \u001b[90m━━━━━━━━━━━━━━━━━━━━━━━━━━━━━━━━━━━━━━━━\u001b[0m \u001b[32m276.6/276.6 kB\u001b[0m \u001b[31m32.6 MB/s\u001b[0m eta \u001b[36m0:00:00\u001b[0m\n",
            "\u001b[?25hRequirement already satisfied: tenacity<9.0.0,>=8.2.3 in /usr/local/lib/python3.10/dist-packages (from landingai) (8.2.3)\n",
            "Requirement already satisfied: tqdm<5.0.0,>=4.64.0 in /usr/local/lib/python3.10/dist-packages (from landingai) (4.66.1)\n",
            "Requirement already satisfied: python-dateutil>=2.8.2 in /usr/local/lib/python3.10/dist-packages (from pandas==2.0->landingai) (2.8.2)\n",
            "Requirement already satisfied: pytz>=2020.1 in /usr/local/lib/python3.10/dist-packages (from pandas==2.0->landingai) (2023.3.post1)\n",
            "Collecting tzdata>=2022.1 (from pandas==2.0->landingai)\n",
            "  Downloading tzdata-2023.3-py2.py3-none-any.whl (341 kB)\n",
            "\u001b[2K     \u001b[90m━━━━━━━━━━━━━━━━━━━━━━━━━━━━━━━━━━━━━━━━\u001b[0m \u001b[32m341.8/341.8 kB\u001b[0m \u001b[31m38.6 MB/s\u001b[0m eta \u001b[36m0:00:00\u001b[0m\n",
            "\u001b[?25hRequirement already satisfied: attrs>=17.3.0 in /usr/local/lib/python3.10/dist-packages (from aiohttp[speedups]<4.0.0,>=3.7.3->landingai) (23.1.0)\n",
            "Requirement already satisfied: multidict<7.0,>=4.5 in /usr/local/lib/python3.10/dist-packages (from aiohttp[speedups]<4.0.0,>=3.7.3->landingai) (6.0.4)\n",
            "Requirement already satisfied: yarl<2.0,>=1.0 in /usr/local/lib/python3.10/dist-packages (from aiohttp[speedups]<4.0.0,>=3.7.3->landingai) (1.9.3)\n",
            "Requirement already satisfied: frozenlist>=1.1.1 in /usr/local/lib/python3.10/dist-packages (from aiohttp[speedups]<4.0.0,>=3.7.3->landingai) (1.4.0)\n",
            "Requirement already satisfied: aiosignal>=1.1.2 in /usr/local/lib/python3.10/dist-packages (from aiohttp[speedups]<4.0.0,>=3.7.3->landingai) (1.3.1)\n",
            "Requirement already satisfied: async-timeout<5.0,>=4.0 in /usr/local/lib/python3.10/dist-packages (from aiohttp[speedups]<4.0.0,>=3.7.3->landingai) (4.0.3)\n",
            "Collecting Brotli (from aiohttp[speedups]<4.0.0,>=3.7.3->landingai)\n",
            "  Downloading Brotli-1.1.0-cp310-cp310-manylinux_2_5_x86_64.manylinux1_x86_64.manylinux_2_12_x86_64.manylinux2010_x86_64.whl (3.0 MB)\n",
            "\u001b[2K     \u001b[90m━━━━━━━━━━━━━━━━━━━━━━━━━━━━━━━━━━━━━━━━\u001b[0m \u001b[32m3.0/3.0 MB\u001b[0m \u001b[31m57.4 MB/s\u001b[0m eta \u001b[36m0:00:00\u001b[0m\n",
            "\u001b[?25hCollecting aiodns (from aiohttp[speedups]<4.0.0,>=3.7.3->landingai)\n",
            "  Downloading aiodns-3.1.1-py3-none-any.whl (5.4 kB)\n",
            "Requirement already satisfied: imageio-ffmpeg in /usr/local/lib/python3.10/dist-packages (from imageio[ffmpeg]<3.0.0,>=2.0.0->landingai) (0.4.9)\n",
            "Requirement already satisfied: psutil in /usr/local/lib/python3.10/dist-packages (from imageio[ffmpeg]<3.0.0,>=2.0.0->landingai) (5.9.5)\n",
            "Requirement already satisfied: typing-extensions>=4.2.0 in /usr/local/lib/python3.10/dist-packages (from pydantic[dotenv]<2.0.0,>=1.0.0->landingai) (4.5.0)\n",
            "Collecting python-dotenv>=0.10.4 (from pydantic[dotenv]<2.0.0,>=1.0.0->landingai)\n",
            "  Downloading python_dotenv-1.0.0-py3-none-any.whl (19 kB)\n",
            "Requirement already satisfied: charset-normalizer<4,>=2 in /usr/local/lib/python3.10/dist-packages (from requests<3.0.0,>=2.0.0->landingai) (3.3.2)\n",
            "Requirement already satisfied: idna<4,>=2.5 in /usr/local/lib/python3.10/dist-packages (from requests<3.0.0,>=2.0.0->landingai) (3.6)\n",
            "Requirement already satisfied: urllib3<3,>=1.21.1 in /usr/local/lib/python3.10/dist-packages (from requests<3.0.0,>=2.0.0->landingai) (2.0.7)\n",
            "Requirement already satisfied: certifi>=2017.4.17 in /usr/local/lib/python3.10/dist-packages (from requests<3.0.0,>=2.0.0->landingai) (2023.11.17)\n",
            "Requirement already satisfied: matplotlib>=3.4.2 in /usr/local/lib/python3.10/dist-packages (from segmentation-mask-overlay<0.4.0,>=0.3.4->landingai) (3.7.1)\n",
            "Requirement already satisfied: opencv-python-headless>=4.5.3 in /usr/local/lib/python3.10/dist-packages (from segmentation-mask-overlay<0.4.0,>=0.3.4->landingai) (4.8.1.78)\n",
            "Requirement already satisfied: contourpy>=1.0.1 in /usr/local/lib/python3.10/dist-packages (from matplotlib>=3.4.2->segmentation-mask-overlay<0.4.0,>=0.3.4->landingai) (1.2.0)\n",
            "Requirement already satisfied: cycler>=0.10 in /usr/local/lib/python3.10/dist-packages (from matplotlib>=3.4.2->segmentation-mask-overlay<0.4.0,>=0.3.4->landingai) (0.12.1)\n",
            "Requirement already satisfied: fonttools>=4.22.0 in /usr/local/lib/python3.10/dist-packages (from matplotlib>=3.4.2->segmentation-mask-overlay<0.4.0,>=0.3.4->landingai) (4.45.1)\n",
            "Requirement already satisfied: kiwisolver>=1.0.1 in /usr/local/lib/python3.10/dist-packages (from matplotlib>=3.4.2->segmentation-mask-overlay<0.4.0,>=0.3.4->landingai) (1.4.5)\n",
            "Requirement already satisfied: packaging>=20.0 in /usr/local/lib/python3.10/dist-packages (from matplotlib>=3.4.2->segmentation-mask-overlay<0.4.0,>=0.3.4->landingai) (23.2)\n",
            "Requirement already satisfied: pyparsing>=2.3.1 in /usr/local/lib/python3.10/dist-packages (from matplotlib>=3.4.2->segmentation-mask-overlay<0.4.0,>=0.3.4->landingai) (3.1.1)\n",
            "Requirement already satisfied: six>=1.5 in /usr/local/lib/python3.10/dist-packages (from python-dateutil>=2.8.2->pandas==2.0->landingai) (1.16.0)\n",
            "Collecting pycares>=4.0.0 (from aiodns->aiohttp[speedups]<4.0.0,>=3.7.3->landingai)\n",
            "  Downloading pycares-4.4.0-cp310-cp310-manylinux_2_17_x86_64.manylinux2014_x86_64.whl (288 kB)\n",
            "\u001b[2K     \u001b[90m━━━━━━━━━━━━━━━━━━━━━━━━━━━━━━━━━━━━━━━━\u001b[0m \u001b[32m288.7/288.7 kB\u001b[0m \u001b[31m34.2 MB/s\u001b[0m eta \u001b[36m0:00:00\u001b[0m\n",
            "\u001b[?25hRequirement already satisfied: setuptools in /usr/local/lib/python3.10/dist-packages (from imageio-ffmpeg->imageio[ffmpeg]<3.0.0,>=2.0.0->landingai) (67.7.2)\n",
            "Requirement already satisfied: cffi>=1.5.0 in /usr/local/lib/python3.10/dist-packages (from pycares>=4.0.0->aiodns->aiohttp[speedups]<4.0.0,>=3.7.3->landingai) (1.16.0)\n",
            "Requirement already satisfied: pycparser in /usr/local/lib/python3.10/dist-packages (from cffi>=1.5.0->pycares>=4.0.0->aiodns->aiohttp[speedups]<4.0.0,>=3.7.3->landingai) (2.21)\n",
            "Installing collected packages: Brotli, tzdata, python-dotenv, bbox-visualizer, aiofiles, pycares, pandas, segmentation-mask-overlay, aiodns, landingai\n",
            "  Attempting uninstall: pandas\n",
            "    Found existing installation: pandas 1.5.3\n",
            "    Uninstalling pandas-1.5.3:\n",
            "      Successfully uninstalled pandas-1.5.3\n",
            "\u001b[31mERROR: pip's dependency resolver does not currently take into account all the packages that are installed. This behaviour is the source of the following dependency conflicts.\n",
            "lida 0.0.10 requires fastapi, which is not installed.\n",
            "lida 0.0.10 requires kaleido, which is not installed.\n",
            "lida 0.0.10 requires python-multipart, which is not installed.\n",
            "lida 0.0.10 requires uvicorn, which is not installed.\n",
            "google-colab 1.0.0 requires pandas==1.5.3, but you have pandas 2.0.0 which is incompatible.\u001b[0m\u001b[31m\n",
            "\u001b[0mSuccessfully installed Brotli-1.1.0 aiodns-3.1.1 aiofiles-0.8.0 bbox-visualizer-0.1.0 landingai-0.3.22 pandas-2.0.0 pycares-4.4.0 python-dotenv-1.0.0 segmentation-mask-overlay-0.3.4 tzdata-2023.3\n"
          ]
        }
      ],
      "source": [
        "!pip install landingai"
      ]
    },
    {
      "cell_type": "code",
      "source": [
        "from google.colab import files\n",
        "uploaded=files.upload()"
      ],
      "metadata": {
        "colab": {
          "base_uri": "https://localhost:8080/",
          "height": 73
        },
        "id": "JMtCVdPdz3lx",
        "outputId": "02123bb9-eaf0-4254-b5ee-f9014bfbf8e5"
      },
      "execution_count": null,
      "outputs": [
        {
          "output_type": "display_data",
          "data": {
            "text/plain": [
              "<IPython.core.display.HTML object>"
            ],
            "text/html": [
              "\n",
              "     <input type=\"file\" id=\"files-f95c2d18-8d2b-4c15-9cac-5ca312aec115\" name=\"files[]\" multiple disabled\n",
              "        style=\"border:none\" />\n",
              "     <output id=\"result-f95c2d18-8d2b-4c15-9cac-5ca312aec115\">\n",
              "      Upload widget is only available when the cell has been executed in the\n",
              "      current browser session. Please rerun this cell to enable.\n",
              "      </output>\n",
              "      <script>// Copyright 2017 Google LLC\n",
              "//\n",
              "// Licensed under the Apache License, Version 2.0 (the \"License\");\n",
              "// you may not use this file except in compliance with the License.\n",
              "// You may obtain a copy of the License at\n",
              "//\n",
              "//      http://www.apache.org/licenses/LICENSE-2.0\n",
              "//\n",
              "// Unless required by applicable law or agreed to in writing, software\n",
              "// distributed under the License is distributed on an \"AS IS\" BASIS,\n",
              "// WITHOUT WARRANTIES OR CONDITIONS OF ANY KIND, either express or implied.\n",
              "// See the License for the specific language governing permissions and\n",
              "// limitations under the License.\n",
              "\n",
              "/**\n",
              " * @fileoverview Helpers for google.colab Python module.\n",
              " */\n",
              "(function(scope) {\n",
              "function span(text, styleAttributes = {}) {\n",
              "  const element = document.createElement('span');\n",
              "  element.textContent = text;\n",
              "  for (const key of Object.keys(styleAttributes)) {\n",
              "    element.style[key] = styleAttributes[key];\n",
              "  }\n",
              "  return element;\n",
              "}\n",
              "\n",
              "// Max number of bytes which will be uploaded at a time.\n",
              "const MAX_PAYLOAD_SIZE = 100 * 1024;\n",
              "\n",
              "function _uploadFiles(inputId, outputId) {\n",
              "  const steps = uploadFilesStep(inputId, outputId);\n",
              "  const outputElement = document.getElementById(outputId);\n",
              "  // Cache steps on the outputElement to make it available for the next call\n",
              "  // to uploadFilesContinue from Python.\n",
              "  outputElement.steps = steps;\n",
              "\n",
              "  return _uploadFilesContinue(outputId);\n",
              "}\n",
              "\n",
              "// This is roughly an async generator (not supported in the browser yet),\n",
              "// where there are multiple asynchronous steps and the Python side is going\n",
              "// to poll for completion of each step.\n",
              "// This uses a Promise to block the python side on completion of each step,\n",
              "// then passes the result of the previous step as the input to the next step.\n",
              "function _uploadFilesContinue(outputId) {\n",
              "  const outputElement = document.getElementById(outputId);\n",
              "  const steps = outputElement.steps;\n",
              "\n",
              "  const next = steps.next(outputElement.lastPromiseValue);\n",
              "  return Promise.resolve(next.value.promise).then((value) => {\n",
              "    // Cache the last promise value to make it available to the next\n",
              "    // step of the generator.\n",
              "    outputElement.lastPromiseValue = value;\n",
              "    return next.value.response;\n",
              "  });\n",
              "}\n",
              "\n",
              "/**\n",
              " * Generator function which is called between each async step of the upload\n",
              " * process.\n",
              " * @param {string} inputId Element ID of the input file picker element.\n",
              " * @param {string} outputId Element ID of the output display.\n",
              " * @return {!Iterable<!Object>} Iterable of next steps.\n",
              " */\n",
              "function* uploadFilesStep(inputId, outputId) {\n",
              "  const inputElement = document.getElementById(inputId);\n",
              "  inputElement.disabled = false;\n",
              "\n",
              "  const outputElement = document.getElementById(outputId);\n",
              "  outputElement.innerHTML = '';\n",
              "\n",
              "  const pickedPromise = new Promise((resolve) => {\n",
              "    inputElement.addEventListener('change', (e) => {\n",
              "      resolve(e.target.files);\n",
              "    });\n",
              "  });\n",
              "\n",
              "  const cancel = document.createElement('button');\n",
              "  inputElement.parentElement.appendChild(cancel);\n",
              "  cancel.textContent = 'Cancel upload';\n",
              "  const cancelPromise = new Promise((resolve) => {\n",
              "    cancel.onclick = () => {\n",
              "      resolve(null);\n",
              "    };\n",
              "  });\n",
              "\n",
              "  // Wait for the user to pick the files.\n",
              "  const files = yield {\n",
              "    promise: Promise.race([pickedPromise, cancelPromise]),\n",
              "    response: {\n",
              "      action: 'starting',\n",
              "    }\n",
              "  };\n",
              "\n",
              "  cancel.remove();\n",
              "\n",
              "  // Disable the input element since further picks are not allowed.\n",
              "  inputElement.disabled = true;\n",
              "\n",
              "  if (!files) {\n",
              "    return {\n",
              "      response: {\n",
              "        action: 'complete',\n",
              "      }\n",
              "    };\n",
              "  }\n",
              "\n",
              "  for (const file of files) {\n",
              "    const li = document.createElement('li');\n",
              "    li.append(span(file.name, {fontWeight: 'bold'}));\n",
              "    li.append(span(\n",
              "        `(${file.type || 'n/a'}) - ${file.size} bytes, ` +\n",
              "        `last modified: ${\n",
              "            file.lastModifiedDate ? file.lastModifiedDate.toLocaleDateString() :\n",
              "                                    'n/a'} - `));\n",
              "    const percent = span('0% done');\n",
              "    li.appendChild(percent);\n",
              "\n",
              "    outputElement.appendChild(li);\n",
              "\n",
              "    const fileDataPromise = new Promise((resolve) => {\n",
              "      const reader = new FileReader();\n",
              "      reader.onload = (e) => {\n",
              "        resolve(e.target.result);\n",
              "      };\n",
              "      reader.readAsArrayBuffer(file);\n",
              "    });\n",
              "    // Wait for the data to be ready.\n",
              "    let fileData = yield {\n",
              "      promise: fileDataPromise,\n",
              "      response: {\n",
              "        action: 'continue',\n",
              "      }\n",
              "    };\n",
              "\n",
              "    // Use a chunked sending to avoid message size limits. See b/62115660.\n",
              "    let position = 0;\n",
              "    do {\n",
              "      const length = Math.min(fileData.byteLength - position, MAX_PAYLOAD_SIZE);\n",
              "      const chunk = new Uint8Array(fileData, position, length);\n",
              "      position += length;\n",
              "\n",
              "      const base64 = btoa(String.fromCharCode.apply(null, chunk));\n",
              "      yield {\n",
              "        response: {\n",
              "          action: 'append',\n",
              "          file: file.name,\n",
              "          data: base64,\n",
              "        },\n",
              "      };\n",
              "\n",
              "      let percentDone = fileData.byteLength === 0 ?\n",
              "          100 :\n",
              "          Math.round((position / fileData.byteLength) * 100);\n",
              "      percent.textContent = `${percentDone}% done`;\n",
              "\n",
              "    } while (position < fileData.byteLength);\n",
              "  }\n",
              "\n",
              "  // All done.\n",
              "  yield {\n",
              "    response: {\n",
              "      action: 'complete',\n",
              "    }\n",
              "  };\n",
              "}\n",
              "\n",
              "scope.google = scope.google || {};\n",
              "scope.google.colab = scope.google.colab || {};\n",
              "scope.google.colab._files = {\n",
              "  _uploadFiles,\n",
              "  _uploadFilesContinue,\n",
              "};\n",
              "})(self);\n",
              "</script> "
            ]
          },
          "metadata": {}
        },
        {
          "output_type": "stream",
          "name": "stdout",
          "text": [
            "Saving download.jpg to download.jpg\n"
          ]
        }
      ]
    },
    {
      "cell_type": "code",
      "source": [
        "from PIL import Image\n",
        "from landingai.predict import Predictor\n",
        "# Enter your API Key\n",
        "endpoint_id = \"fb034138-dc08-40c4-a8c8-4200fefdd5b5\"\n",
        "api_key = \"land_sk_aNMPG1KJHfahNCK6Z8BcQQ3uH6cvNayEgPNru8UT082YYsDoUA\"\n",
        "# Load your image\n",
        "image = Image.open(\"download.jpg\")\n",
        "# Run inference\n",
        "predictor = Predictor(endpoint_id, api_key=api_key)\n",
        "predictions = predictor.predict(image)"
      ],
      "metadata": {
        "id": "fiXgCkDE0QFi"
      },
      "execution_count": null,
      "outputs": []
    },
    {
      "cell_type": "code",
      "source": [
        "print(predictions)"
      ],
      "metadata": {
        "colab": {
          "base_uri": "https://localhost:8080/"
        },
        "id": "oLz5Sr860qbh",
        "outputId": "1207b141-2a6a-4634-d21a-bf51d668c696"
      },
      "execution_count": null,
      "outputs": [
        {
          "output_type": "stream",
          "name": "stdout",
          "text": [
            "[SegmentationPrediction(score=1.0, label_name='Road', label_index=1, id='11e4c500-ea17-649f-844b-3c09cd55264e', encoded_mask='3657Z1N1Z2N269Z1N4Z1N274Z1N274Z1N273Z1N274Z1N273Z1N1063Z1N583Z1N781Z1N2441Z2N270Z6N267Z7N267Z8N266Z8N7Z2N256Z9N6Z4N255Z10N5Z4N254Z12N4Z5N253Z12N4Z5N253Z12N3Z6N255Z10N5Z4N259Z6N717Z1N240Z1N30Z3N1124Z2N273Z1N224Z1N242Z8N266Z3N271Z1N13805Z9N33Z47N11Z1N6Z5N11Z6N13Z2N40Z6N84Z7N50Z23N28Z1N17Z15N265Z6N268Z7N267Z7N267Z8N266Z9N264Z11N263Z12N262Z13N261Z14N259Z16N257Z18N255Z20N252Z24N248Z28N241Z37N234Z44N225Z54N215Z64N206Z72N197Z81N189Z91N179Z99N170Z109N160Z119N150Z129N140Z138N131Z147N122Z157N112Z167N103Z176N93Z185N84Z145N7Z44N73Z149N8Z49N64Z153N8Z53N55Z158N8Z59N45Z162N9Z62N37Z166N8Z67N27Z172N8Z73N18Z175N8Z77N9Z181N7Z4395N3Z269N7Z267N7Z267N7Z267N7Z267N7Z267N7Z267N7Z268N4Z681N7Z267N7Z267N7Z750N', encoding_map={'Z': 0, 'N': 1}, mask_shape=(184, 274)), SegmentationPrediction(score=1.0, label_name='Road_side', label_index=2, id='5220095b-0925-3825-cad3-c084fe80dcd6', encoded_mask='16604Z1N13818Z33N47Z11N1Z6N5Z11N21Z24N22Z13N1Z1N18Z17N41Z50N23Z28N1Z17N15Z265N6Z268N7Z267N7Z267N8Z266N9Z264N11Z263N12Z262N13Z261N14Z259N16Z257N18Z255N20Z252N24Z248N28Z241N37Z234N44Z225N54Z215N64Z206N72Z197N81Z189N91Z179N99Z170N109Z160N119Z150N129Z140N138Z131N147Z122N157Z112N167Z103N176Z93N185Z84N196Z73N206Z64N214Z55N225Z45N233Z37N241Z27N253Z18N260Z9N8764Z', encoding_map={'Z': 0, 'N': 1}, mask_shape=(184, 274)), SegmentationPrediction(score=1.0, label_name='Hills', label_index=3, id='a560537f-5863-efe9-e71a-c038959ed99b', encoded_mask='3383Z3N270Z1N1Z1N270Z1N1Z4N267Z8N264Z11N261Z13N259Z16N257Z17N257Z18N255Z21N253Z21N252Z22N238Z2N12Z23N236Z4N11Z23N235Z6N9Z25N234Z6N9Z25N234Z6N8Z26N232Z12N3Z27N232Z14N1Z27N232Z43N230Z44N229Z45N229Z45N228Z48N226Z48N19Z3N203Z50N14Z8N202Z50N13Z10N176Z1N24Z50N12Z12N171Z7N21Z52N9Z14N166Z9N11Z1N8Z1N3Z76N7Z3N150Z1N1Z11N12Z3N2Z1N6Z89N126Z2N16Z16N14Z5N4Z92N125Z2N15Z20N12Z4N5Z93N123Z2N14Z21N12Z4N5Z95N121Z2N13Z22N12Z3N6Z96N5Z2N2Z2N109Z2N12Z25N10Z5N4Z111N105Z2N10Z31N6Z124N101Z2N7Z168N97Z3N4Z170N6Z3N33Z4N51Z2N4Z179N1Z2N23Z5N3Z7N48Z2N2Z186N19Z20N45Z191N17Z22N44Z191N16Z24N43Z192N12Z29N12Z2N27Z195N4Z36N9Z4N1Z1N24Z199N1Z37N6Z8N23Z168N8Z76N22Z168N3Z82N21Z164N1Z3N1Z85N20Z255N19Z256N18Z257N17Z258N16Z259N15Z260N14Z270N4Z272N2Z273N1Z7471N16Z258N16Z258N16Z258N16Z258N16Z258N16Z258N16Z2103N129Z13N26Z16N19Z1N1Z18N17Z34N8953Z7N266Z8N266Z8N266Z8N266Z9N265Z8N266Z8N266Z8N267Z7N4395Z3N269Z7N267Z7N267Z7N267Z7N267Z7N267Z7N267Z7N268Z4N681Z7N267Z7N267Z7N750Z', encoding_map={'Z': 0, 'N': 1}, mask_shape=(184, 274)), SegmentationPrediction(score=1.0, label_name='Sky', label_index=4, id='effb0903-b8f2-2f8c-abed-9bbab4666cdd', encoded_mask='3383N3Z270N5Z268N7Z266N9Z263N12Z260N14Z258N17Z256N18Z256N18Z255N21Z253N21Z239N1Z12N22Z238N2Z12N23Z236N4Z11N24Z234N6Z9N25Z234N6Z9N25Z233N7Z8N26Z232N12Z3N27Z232N14Z1N27Z232N43Z230N44Z229N45Z229N45Z228N48Z226N48Z19N3Z184N2Z17N50Z14N8Z181N6Z15N50Z13N10Z176N1Z2N7Z15N50Z12N12Z171N15Z13N52Z9N14Z166N9Z3N9Z6N3Z3N76Z7N3Z150N1Z1N11Z3N12Z2N5Z2N89Z126N2Z16N16Z4N111Z125N2Z15N134Z123N2Z14N137Z121N2Z13N139Z5N2Z2N2Z109N2Z12N155Z105N2Z10N161Z101N2Z7N168Z97N3Z4N170Z6N3Z32N5Z51N2Z4N182Z23N15Z48N2Z2N186Z19N20Z45N191Z17N22Z44N191Z16N24Z43N192Z12N29Z12N4Z25N195Z4N36Z9N6Z24N237Z6N8Z23N252Z22N253Z21N254Z20N255Z19N256Z18N257Z17N258Z16N259Z15N260Z14N270Z4N272Z2N273Z1N7471Z16N258Z16N258Z16N258Z16N258Z16N258Z16N258Z16N22105Z', encoding_map={'Z': 0, 'N': 1}, mask_shape=(184, 274))]\n"
          ]
        }
      ]
    },
    {
      "cell_type": "code",
      "source": [],
      "metadata": {
        "id": "CRpSfnGo0unf"
      },
      "execution_count": null,
      "outputs": []
    }
  ]
}